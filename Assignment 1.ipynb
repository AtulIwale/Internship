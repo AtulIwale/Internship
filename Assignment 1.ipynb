{
 "cells": [
  {
   "cell_type": "code",
   "execution_count": 1,
   "id": "b13b2e16",
   "metadata": {},
   "outputs": [
    {
     "name": "stdout",
     "output_type": "stream",
     "text": [
      "15\n"
     ]
    }
   ],
   "source": [
    "def func(a, b):\n",
    " return b if a == 0 else func(b % a, a)\n",
    "print(func(30, 75))"
   ]
  },
  {
   "cell_type": "code",
   "execution_count": 2,
   "id": "8dc3f14b",
   "metadata": {},
   "outputs": [
    {
     "name": "stdout",
     "output_type": "stream",
     "text": [
      "<class 'filter'>\n"
     ]
    }
   ],
   "source": [
    "numbers = (4, 7, 19, 2, 89, 45, 72, 22)\n",
    "sorted_numbers = sorted(numbers)\n",
    "even = lambda a: a % 2 == 0\n",
    "even_numbers = filter(even, sorted_numbers)\n",
    "print(type(even_numbers))"
   ]
  },
  {
   "cell_type": "markdown",
   "id": "b0d54c79",
   "metadata": {},
   "source": [
    "# 3) As what datatype are the *args stored, when passed into\n",
    "\n",
    "b) List"
   ]
  },
  {
   "cell_type": "code",
   "execution_count": 3,
   "id": "fb9e336e",
   "metadata": {},
   "outputs": [
    {
     "ename": "TypeError",
     "evalue": "unsupported operand type(s) for +: 'set' and 'set'",
     "output_type": "error",
     "traceback": [
      "\u001b[1;31m---------------------------------------------------------------------------\u001b[0m",
      "\u001b[1;31mTypeError\u001b[0m                                 Traceback (most recent call last)",
      "Input \u001b[1;32mIn [3]\u001b[0m, in \u001b[0;36m<cell line: 4>\u001b[1;34m()\u001b[0m\n\u001b[0;32m      2\u001b[0m set2 \u001b[38;5;241m=\u001b[39m {\u001b[38;5;241m82\u001b[39m, \u001b[38;5;241m49\u001b[39m, \u001b[38;5;241m62\u001b[39m}\n\u001b[0;32m      3\u001b[0m set3\u001b[38;5;241m=\u001b[39m{\u001b[38;5;241m99\u001b[39m,\u001b[38;5;241m22\u001b[39m,\u001b[38;5;241m17\u001b[39m}\n\u001b[1;32m----> 4\u001b[0m \u001b[38;5;28mprint\u001b[39m(\u001b[38;5;28mlen\u001b[39m(\u001b[43mset1\u001b[49m\u001b[43m \u001b[49m\u001b[38;5;241;43m+\u001b[39;49m\u001b[43m \u001b[49m\u001b[43mset2\u001b[49m \u001b[38;5;241m+\u001b[39m set3))\n",
      "\u001b[1;31mTypeError\u001b[0m: unsupported operand type(s) for +: 'set' and 'set'"
     ]
    }
   ],
   "source": [
    "set1 = {14, 3, 55}\n",
    "set2 = {82, 49, 62}\n",
    "set3={99,22,17}\n",
    "print(len(set1 + set2 + set3))"
   ]
  },
  {
   "cell_type": "markdown",
   "id": "2d8821e6",
   "metadata": {},
   "source": [
    "# 5) What keyword is used in Python to raise exceptions?\n",
    "\n",
    "d) except"
   ]
  },
  {
   "cell_type": "markdown",
   "id": "1da44149",
   "metadata": {},
   "source": [
    "# 6) Which of the following modules need to be imported to handle date time computations in Python?\n",
    "\n",
    "c) datetime"
   ]
  },
  {
   "cell_type": "code",
   "execution_count": 4,
   "id": "f240afd3",
   "metadata": {},
   "outputs": [
    {
     "name": "stdout",
     "output_type": "stream",
     "text": [
      "208\n"
     ]
    }
   ],
   "source": [
    "print(4**3 + (7 + 5)**(1 + 1))"
   ]
  },
  {
   "cell_type": "markdown",
   "id": "0a82f5a2",
   "metadata": {},
   "source": [
    "# 8) Which of the following functions converts date to corresponding time in Python?\n",
    "\n",
    "d) None"
   ]
  },
  {
   "cell_type": "markdown",
   "id": "c40912bb",
   "metadata": {},
   "source": [
    "# 9) The python tuple is _____ in nature.\n",
    "\n",
    "b)immutable"
   ]
  },
  {
   "cell_type": "markdown",
   "id": "12856f1a",
   "metadata": {},
   "source": [
    "# 10) The ___ is a built-in function that returns a range object that consists series of integer numbers, which we can iterate using a for loop.\n",
    "\n",
    "A. range()"
   ]
  },
  {
   "cell_type": "markdown",
   "id": "e9949f31",
   "metadata": {},
   "source": [
    "# 11) Amongst which of the following is a function which does not have any name?\n",
    "\n",
    "C. Lambda function"
   ]
  },
  {
   "cell_type": "markdown",
   "id": "d515dd2c",
   "metadata": {},
   "source": [
    "# 12) The module Pickle is used to ___.\n",
    "\n",
    "C. Both A and B"
   ]
  },
  {
   "cell_type": "markdown",
   "id": "701846ab",
   "metadata": {},
   "source": [
    "# 13) Amongst which of the following is / are the method of convert Python objects for writing data in a binary file?\n",
    "\n",
    "B. dump() method"
   ]
  },
  {
   "cell_type": "markdown",
   "id": "e0b3d7c9",
   "metadata": {},
   "source": [
    "# 14) Amongst which of the following is / are the method used to unpickling data from a binary file?\n",
    "\n",
    "A. load()"
   ]
  },
  {
   "cell_type": "markdown",
   "id": "87017e87",
   "metadata": {},
   "source": [
    "# 15) A text file contains only textual information consisting of ___.\n",
    "\n",
    "D. All of the mentioned above"
   ]
  },
  {
   "cell_type": "markdown",
   "id": "f148c40e",
   "metadata": {},
   "source": [
    "# 16) Which Python code could replace the ellipsis (...) below to get the following output? (Select all that apply.)\n",
    "captains = {\n",
    " \"Enterprise\": \"Picard\",\n",
    " \"Voyager\": \"Janeway\",\n",
    " \"Defiant\": \"Sisko\",\n",
    "}\n",
    "Enterprise Picard,\n",
    " Voyager Janeway\n",
    " Defiant Sisko\n",
    "\n",
    "\n",
    "d) both a and b"
   ]
  },
  {
   "cell_type": "markdown",
   "id": "62507f59",
   "metadata": {},
   "source": [
    "# 17) Which of the following lines of code will create an empty dictionary named captains?\n",
    "\n",
    "d) captains = {}"
   ]
  },
  {
   "cell_type": "markdown",
   "id": "a70758c2",
   "metadata": {},
   "source": [
    "# 18) Now you have your empty dictionary named captains. It’s time to add some data!\n",
    "Specifically, you want to add the key-value pairs \"Enterprise\": \"Picard\", \"Voyager\": \"Janeway\",\n",
    "and \"Defiant\": \"Sisko\".\n",
    "Which of the following code snippets will successfully add these key-value pairs to the\n",
    "existing captains dictionary?\n",
    "\n",
    "B & C"
   ]
  },
  {
   "cell_type": "markdown",
   "id": "43127497",
   "metadata": {},
   "source": [
    "# 19) You’re really building out the Federation Starfleet now! Here’s what you have:\n",
    "captains = {\n",
    " \"Enterprise\": \"Picard\",\n",
    " \"Voyager\": \"Janeway\",\n",
    " \"Defiant\": \"Sisko\",\n",
    " \"Discovery\": \"unknown\",\n",
    "}Now, say you want to display the ship and captain names contained in the dictionary, but you also\n",
    "want to provide some additional context. How could you do it?\n",
    "\n",
    "B & C"
   ]
  },
  {
   "cell_type": "markdown",
   "id": "9ff09755",
   "metadata": {},
   "source": [
    "# 20) You’ve created a dictionary, added data, checked for the existence of keys, and iterated over it with\n",
    "a for loop. Now you’re ready to delete a key from this dictionary:\n",
    "captains = {\n",
    " \"Enterprise\": \"Picard\",\n",
    " \"Voyager\": \"Janeway\",\n",
    " \"Defiant\": \"Sisko\",\n",
    " \"Discovery\": \"unknown\",\n",
    "}\n",
    "\n",
    "What statement will remove the entry for the key \"Discovery\"?\n",
    "\n",
    "c) del captains[\"Discovery\"]"
   ]
  },
  {
   "cell_type": "code",
   "execution_count": null,
   "id": "4a897b5f",
   "metadata": {},
   "outputs": [],
   "source": []
  }
 ],
 "metadata": {
  "kernelspec": {
   "display_name": "Python 3 (ipykernel)",
   "language": "python",
   "name": "python3"
  },
  "language_info": {
   "codemirror_mode": {
    "name": "ipython",
    "version": 3
   },
   "file_extension": ".py",
   "mimetype": "text/x-python",
   "name": "python",
   "nbconvert_exporter": "python",
   "pygments_lexer": "ipython3",
   "version": "3.9.12"
  }
 },
 "nbformat": 4,
 "nbformat_minor": 5
}
